{
  "nbformat": 4,
  "nbformat_minor": 0,
  "metadata": {
    "colab": {
      "name": "Raspagem IDHM 2010.ipynb",
      "provenance": [],
      "authorship_tag": "ABX9TyOQ3AUCqNKlllva/Y4PxRNj",
      "include_colab_link": true
    },
    "kernelspec": {
      "name": "python3",
      "display_name": "Python 3"
    },
    "language_info": {
      "name": "python"
    }
  },
  "cells": [
    {
      "cell_type": "markdown",
      "metadata": {
        "id": "view-in-github",
        "colab_type": "text"
      },
      "source": [
        "<a href=\"https://colab.research.google.com/github/renan-cav/IDHM-Brasil-2010/blob/main/Raspagem_IDHM_2010.ipynb\" target=\"_parent\"><img src=\"https://colab.research.google.com/assets/colab-badge.svg\" alt=\"Open In Colab\"/></a>"
      ]
    },
    {
      "cell_type": "markdown",
      "metadata": {
        "id": "e9n1Mm1pltEX"
      },
      "source": [
        "#Raspagem de tabela do site do Programa das Nações Unidas para o Desenvolvimento\n",
        "\n",
        "Site: https://www.br.undp.org/content/brazil/pt/home/idh0/rankings/idhm-municipios-2010.html\n",
        "\n",
        "Código Fonte: https://www.br.undp.org/content/brazil/pt/home/idh0/rankings/idhm-municipios-2010.html"
      ]
    },
    {
      "cell_type": "code",
      "metadata": {
        "id": "fDhCkisQroYp"
      },
      "source": [
        "!pip install quickda # Instala a biblioteca quickda que serve para análise de dados"
      ],
      "execution_count": null,
      "outputs": []
    },
    {
      "cell_type": "code",
      "metadata": {
        "id": "1-qQW5_Rigkg"
      },
      "source": [
        "import csv # Importa as bibliotecas necessárias\n",
        "import pandas as pd\n",
        "import quickda\n",
        "\n",
        "from quickda.clean_data import * # Limpa o dataframe\n",
        "from quickda.explore_data import *"
      ],
      "execution_count": 253,
      "outputs": []
    },
    {
      "cell_type": "code",
      "metadata": {
        "id": "3inTTWioiwpH"
      },
      "source": [
        "url = \"https://www.br.undp.org/content/brazil/pt/home/idh0/rankings/idhm-municipios-2010.html\"\n",
        "html = pd.read_html(url) # Puxa a tabela direto da URL Definida"
      ],
      "execution_count": 270,
      "outputs": []
    },
    {
      "cell_type": "code",
      "metadata": {
        "id": "6FTDHCy0aKSk"
      },
      "source": [
        "df = html[0] # Extrai a tabela do HTML"
      ],
      "execution_count": 271,
      "outputs": []
    },
    {
      "cell_type": "code",
      "metadata": {
        "colab": {
          "base_uri": "https://localhost:8080/",
          "height": 204
        },
        "id": "xGzoJkyAyl4a",
        "outputId": "03e1aab0-2acc-4c47-d53d-4cf64d5ad7b9"
      },
      "source": [
        "df.head()"
      ],
      "execution_count": 272,
      "outputs": [
        {
          "output_type": "execute_result",
          "data": {
            "text/html": [
              "<div>\n",
              "<style scoped>\n",
              "    .dataframe tbody tr th:only-of-type {\n",
              "        vertical-align: middle;\n",
              "    }\n",
              "\n",
              "    .dataframe tbody tr th {\n",
              "        vertical-align: top;\n",
              "    }\n",
              "\n",
              "    .dataframe thead th {\n",
              "        text-align: right;\n",
              "    }\n",
              "</style>\n",
              "<table border=\"1\" class=\"dataframe\">\n",
              "  <thead>\n",
              "    <tr style=\"text-align: right;\">\n",
              "      <th></th>\n",
              "      <th>Ranking IDHM 2010</th>\n",
              "      <th>Município</th>\n",
              "      <th>IDHM 2010</th>\n",
              "      <th>IDHM Renda 2010</th>\n",
              "      <th>IDHM Longevidade 2010</th>\n",
              "      <th>IDHM Educação 2010</th>\n",
              "    </tr>\n",
              "  </thead>\n",
              "  <tbody>\n",
              "    <tr>\n",
              "      <th>0</th>\n",
              "      <td>1 º</td>\n",
              "      <td>São Caetano do Sul (SP)</td>\n",
              "      <td>862</td>\n",
              "      <td>0891</td>\n",
              "      <td>0887</td>\n",
              "      <td>811</td>\n",
              "    </tr>\n",
              "    <tr>\n",
              "      <th>1</th>\n",
              "      <td>2 º</td>\n",
              "      <td>Águas de São Pedro (SP)</td>\n",
              "      <td>854</td>\n",
              "      <td>0849</td>\n",
              "      <td>0890</td>\n",
              "      <td>825</td>\n",
              "    </tr>\n",
              "    <tr>\n",
              "      <th>2</th>\n",
              "      <td>3 º</td>\n",
              "      <td>Florianópolis (SC)</td>\n",
              "      <td>847</td>\n",
              "      <td>0870</td>\n",
              "      <td>0873</td>\n",
              "      <td>800</td>\n",
              "    </tr>\n",
              "    <tr>\n",
              "      <th>3</th>\n",
              "      <td>4 º</td>\n",
              "      <td>Balneário Camboriú (SC)</td>\n",
              "      <td>845</td>\n",
              "      <td>0854</td>\n",
              "      <td>0894</td>\n",
              "      <td>789</td>\n",
              "    </tr>\n",
              "    <tr>\n",
              "      <th>4</th>\n",
              "      <td>4 º</td>\n",
              "      <td>Vitória (ES)</td>\n",
              "      <td>845</td>\n",
              "      <td>0876</td>\n",
              "      <td>0855</td>\n",
              "      <td>805</td>\n",
              "    </tr>\n",
              "  </tbody>\n",
              "</table>\n",
              "</div>"
            ],
            "text/plain": [
              "  Ranking IDHM 2010  ... IDHM Educação 2010\n",
              "0               1 º  ...                811\n",
              "1               2 º  ...                825\n",
              "2               3 º  ...                800\n",
              "3               4 º  ...                789\n",
              "4               4 º  ...                805\n",
              "\n",
              "[5 rows x 6 columns]"
            ]
          },
          "metadata": {},
          "execution_count": 272
        }
      ]
    },
    {
      "cell_type": "code",
      "metadata": {
        "id": "GIR2snVs16GV"
      },
      "source": [
        "df[[\"municipio\",\"estado\"]] = df[\"Município\"].str.split(\"(\", expand=True) # Divide a coluna munícipio e criar a coluna estado\n",
        "df[\"estado\"] = df[\"estado\"].str.replace(\")\",\"\") # Tira o parêntese que estava sobrando\n",
        "df = df.rename(columns={\"Ranking IDHM 2010\": \"Ranking\", \"IDHM Renda 2010\": \"IDHM Renda\", \"IDHM Longevidade 2010\": \"IDHM Longev\", \"IDHM Educação 2010\" : \"IDHM Edu\"}) # Renomeia as colunas\n",
        "df = df.drop(\"Município\", 1) # Retira a coluna \"Município\". O 1 no fim do código significa que uma coluna deve ser retirada."
      ],
      "execution_count": 273,
      "outputs": []
    },
    {
      "cell_type": "code",
      "metadata": {
        "colab": {
          "base_uri": "https://localhost:8080/",
          "height": 204
        },
        "id": "RrPEEQfvGtsR",
        "outputId": "12af6b70-33f2-4240-bbb7-c2a97c24e97b"
      },
      "source": [
        "df.head()"
      ],
      "execution_count": 274,
      "outputs": [
        {
          "output_type": "execute_result",
          "data": {
            "text/html": [
              "<div>\n",
              "<style scoped>\n",
              "    .dataframe tbody tr th:only-of-type {\n",
              "        vertical-align: middle;\n",
              "    }\n",
              "\n",
              "    .dataframe tbody tr th {\n",
              "        vertical-align: top;\n",
              "    }\n",
              "\n",
              "    .dataframe thead th {\n",
              "        text-align: right;\n",
              "    }\n",
              "</style>\n",
              "<table border=\"1\" class=\"dataframe\">\n",
              "  <thead>\n",
              "    <tr style=\"text-align: right;\">\n",
              "      <th></th>\n",
              "      <th>Ranking</th>\n",
              "      <th>IDHM 2010</th>\n",
              "      <th>IDHM Renda</th>\n",
              "      <th>IDHM Longev</th>\n",
              "      <th>IDHM Edu</th>\n",
              "      <th>municipio</th>\n",
              "      <th>estado</th>\n",
              "    </tr>\n",
              "  </thead>\n",
              "  <tbody>\n",
              "    <tr>\n",
              "      <th>0</th>\n",
              "      <td>1 º</td>\n",
              "      <td>862</td>\n",
              "      <td>0891</td>\n",
              "      <td>0887</td>\n",
              "      <td>811</td>\n",
              "      <td>São Caetano do Sul</td>\n",
              "      <td>SP</td>\n",
              "    </tr>\n",
              "    <tr>\n",
              "      <th>1</th>\n",
              "      <td>2 º</td>\n",
              "      <td>854</td>\n",
              "      <td>0849</td>\n",
              "      <td>0890</td>\n",
              "      <td>825</td>\n",
              "      <td>Águas de São Pedro</td>\n",
              "      <td>SP</td>\n",
              "    </tr>\n",
              "    <tr>\n",
              "      <th>2</th>\n",
              "      <td>3 º</td>\n",
              "      <td>847</td>\n",
              "      <td>0870</td>\n",
              "      <td>0873</td>\n",
              "      <td>800</td>\n",
              "      <td>Florianópolis</td>\n",
              "      <td>SC</td>\n",
              "    </tr>\n",
              "    <tr>\n",
              "      <th>3</th>\n",
              "      <td>4 º</td>\n",
              "      <td>845</td>\n",
              "      <td>0854</td>\n",
              "      <td>0894</td>\n",
              "      <td>789</td>\n",
              "      <td>Balneário Camboriú</td>\n",
              "      <td>SC</td>\n",
              "    </tr>\n",
              "    <tr>\n",
              "      <th>4</th>\n",
              "      <td>4 º</td>\n",
              "      <td>845</td>\n",
              "      <td>0876</td>\n",
              "      <td>0855</td>\n",
              "      <td>805</td>\n",
              "      <td>Vitória</td>\n",
              "      <td>ES</td>\n",
              "    </tr>\n",
              "  </tbody>\n",
              "</table>\n",
              "</div>"
            ],
            "text/plain": [
              "  Ranking  IDHM 2010 IDHM Renda  ... IDHM Edu            municipio estado\n",
              "0     1 º        862       0891  ...      811  São Caetano do Sul      SP\n",
              "1     2 º        854       0849  ...      825  Águas de São Pedro      SP\n",
              "2     3 º        847       0870  ...      800       Florianópolis      SC\n",
              "3     4 º        845       0854  ...      789  Balneário Camboriú      SC\n",
              "4     4 º        845       0876  ...      805             Vitória      ES\n",
              "\n",
              "[5 rows x 7 columns]"
            ]
          },
          "metadata": {},
          "execution_count": 274
        }
      ]
    },
    {
      "cell_type": "code",
      "metadata": {
        "id": "CpI_XpsAifIE"
      },
      "source": [
        "df[\"Ranking\"] = df[\"Ranking\"].str.replace(\"º\", \"\").str.replace(\"td>\", \"\") # Faz mudanças nas células. Retira o \"º\" do ranking e \"td>\" que era um erro na criação do HTML.\n",
        "df[\"IDHM Renda\"] = df[\"IDHM Renda\"].str.replace(\"td>\", \"\").str.replace(\",\",\"\")\n",
        "df[\"IDHM Longev\"] = df[\"IDHM Longev\"].str.replace(\"td>\", \"\").str.replace(\",\",\"\")"
      ],
      "execution_count": 275,
      "outputs": []
    },
    {
      "cell_type": "code",
      "metadata": {
        "colab": {
          "base_uri": "https://localhost:8080/",
          "height": 204
        },
        "id": "gcv2TjMRi3s0",
        "outputId": "c47d622a-c767-44fc-f8fb-e69cc29cceb4"
      },
      "source": [
        "df.head()"
      ],
      "execution_count": 276,
      "outputs": [
        {
          "output_type": "execute_result",
          "data": {
            "text/html": [
              "<div>\n",
              "<style scoped>\n",
              "    .dataframe tbody tr th:only-of-type {\n",
              "        vertical-align: middle;\n",
              "    }\n",
              "\n",
              "    .dataframe tbody tr th {\n",
              "        vertical-align: top;\n",
              "    }\n",
              "\n",
              "    .dataframe thead th {\n",
              "        text-align: right;\n",
              "    }\n",
              "</style>\n",
              "<table border=\"1\" class=\"dataframe\">\n",
              "  <thead>\n",
              "    <tr style=\"text-align: right;\">\n",
              "      <th></th>\n",
              "      <th>Ranking</th>\n",
              "      <th>IDHM 2010</th>\n",
              "      <th>IDHM Renda</th>\n",
              "      <th>IDHM Longev</th>\n",
              "      <th>IDHM Edu</th>\n",
              "      <th>municipio</th>\n",
              "      <th>estado</th>\n",
              "    </tr>\n",
              "  </thead>\n",
              "  <tbody>\n",
              "    <tr>\n",
              "      <th>0</th>\n",
              "      <td>1</td>\n",
              "      <td>862</td>\n",
              "      <td>0891</td>\n",
              "      <td>0887</td>\n",
              "      <td>811</td>\n",
              "      <td>São Caetano do Sul</td>\n",
              "      <td>SP</td>\n",
              "    </tr>\n",
              "    <tr>\n",
              "      <th>1</th>\n",
              "      <td>2</td>\n",
              "      <td>854</td>\n",
              "      <td>0849</td>\n",
              "      <td>0890</td>\n",
              "      <td>825</td>\n",
              "      <td>Águas de São Pedro</td>\n",
              "      <td>SP</td>\n",
              "    </tr>\n",
              "    <tr>\n",
              "      <th>2</th>\n",
              "      <td>3</td>\n",
              "      <td>847</td>\n",
              "      <td>0870</td>\n",
              "      <td>0873</td>\n",
              "      <td>800</td>\n",
              "      <td>Florianópolis</td>\n",
              "      <td>SC</td>\n",
              "    </tr>\n",
              "    <tr>\n",
              "      <th>3</th>\n",
              "      <td>4</td>\n",
              "      <td>845</td>\n",
              "      <td>0854</td>\n",
              "      <td>0894</td>\n",
              "      <td>789</td>\n",
              "      <td>Balneário Camboriú</td>\n",
              "      <td>SC</td>\n",
              "    </tr>\n",
              "    <tr>\n",
              "      <th>4</th>\n",
              "      <td>4</td>\n",
              "      <td>845</td>\n",
              "      <td>0876</td>\n",
              "      <td>0855</td>\n",
              "      <td>805</td>\n",
              "      <td>Vitória</td>\n",
              "      <td>ES</td>\n",
              "    </tr>\n",
              "  </tbody>\n",
              "</table>\n",
              "</div>"
            ],
            "text/plain": [
              "  Ranking  IDHM 2010 IDHM Renda  ... IDHM Edu            municipio estado\n",
              "0      1         862       0891  ...      811  São Caetano do Sul      SP\n",
              "1      2         854       0849  ...      825  Águas de São Pedro      SP\n",
              "2      3         847       0870  ...      800       Florianópolis      SC\n",
              "3      4         845       0854  ...      789  Balneário Camboriú      SC\n",
              "4      4         845       0876  ...      805             Vitória      ES\n",
              "\n",
              "[5 rows x 7 columns]"
            ]
          },
          "metadata": {},
          "execution_count": 276
        }
      ]
    },
    {
      "cell_type": "code",
      "metadata": {
        "id": "q_Hn7jsXx0BT"
      },
      "source": [
        "df = df.convert_dtypes(infer_objects=True)"
      ],
      "execution_count": 277,
      "outputs": []
    },
    {
      "cell_type": "code",
      "metadata": {
        "id": "UuUiFt_LKAVP"
      },
      "source": [
        "df[[\"Ranking\", \"IDHM Renda\", \"IDHM Longev\"]] = df[[\"Ranking\", \"IDHM Renda\", \"IDHM Longev\"]].astype(int)"
      ],
      "execution_count": 278,
      "outputs": []
    },
    {
      "cell_type": "code",
      "metadata": {
        "colab": {
          "base_uri": "https://localhost:8080/",
          "height": 204
        },
        "id": "gx3TwzJ9nAuk",
        "outputId": "f08f8812-a192-42a5-f1a8-18c998c679c6"
      },
      "source": [
        "df.head()"
      ],
      "execution_count": 279,
      "outputs": [
        {
          "output_type": "execute_result",
          "data": {
            "text/html": [
              "<div>\n",
              "<style scoped>\n",
              "    .dataframe tbody tr th:only-of-type {\n",
              "        vertical-align: middle;\n",
              "    }\n",
              "\n",
              "    .dataframe tbody tr th {\n",
              "        vertical-align: top;\n",
              "    }\n",
              "\n",
              "    .dataframe thead th {\n",
              "        text-align: right;\n",
              "    }\n",
              "</style>\n",
              "<table border=\"1\" class=\"dataframe\">\n",
              "  <thead>\n",
              "    <tr style=\"text-align: right;\">\n",
              "      <th></th>\n",
              "      <th>Ranking</th>\n",
              "      <th>IDHM 2010</th>\n",
              "      <th>IDHM Renda</th>\n",
              "      <th>IDHM Longev</th>\n",
              "      <th>IDHM Edu</th>\n",
              "      <th>municipio</th>\n",
              "      <th>estado</th>\n",
              "    </tr>\n",
              "  </thead>\n",
              "  <tbody>\n",
              "    <tr>\n",
              "      <th>0</th>\n",
              "      <td>1</td>\n",
              "      <td>862</td>\n",
              "      <td>891</td>\n",
              "      <td>887</td>\n",
              "      <td>811</td>\n",
              "      <td>São Caetano do Sul</td>\n",
              "      <td>SP</td>\n",
              "    </tr>\n",
              "    <tr>\n",
              "      <th>1</th>\n",
              "      <td>2</td>\n",
              "      <td>854</td>\n",
              "      <td>849</td>\n",
              "      <td>890</td>\n",
              "      <td>825</td>\n",
              "      <td>Águas de São Pedro</td>\n",
              "      <td>SP</td>\n",
              "    </tr>\n",
              "    <tr>\n",
              "      <th>2</th>\n",
              "      <td>3</td>\n",
              "      <td>847</td>\n",
              "      <td>870</td>\n",
              "      <td>873</td>\n",
              "      <td>800</td>\n",
              "      <td>Florianópolis</td>\n",
              "      <td>SC</td>\n",
              "    </tr>\n",
              "    <tr>\n",
              "      <th>3</th>\n",
              "      <td>4</td>\n",
              "      <td>845</td>\n",
              "      <td>854</td>\n",
              "      <td>894</td>\n",
              "      <td>789</td>\n",
              "      <td>Balneário Camboriú</td>\n",
              "      <td>SC</td>\n",
              "    </tr>\n",
              "    <tr>\n",
              "      <th>4</th>\n",
              "      <td>4</td>\n",
              "      <td>845</td>\n",
              "      <td>876</td>\n",
              "      <td>855</td>\n",
              "      <td>805</td>\n",
              "      <td>Vitória</td>\n",
              "      <td>ES</td>\n",
              "    </tr>\n",
              "  </tbody>\n",
              "</table>\n",
              "</div>"
            ],
            "text/plain": [
              "   Ranking  IDHM 2010  IDHM Renda  ...  IDHM Edu            municipio estado\n",
              "0        1        862         891  ...       811  São Caetano do Sul      SP\n",
              "1        2        854         849  ...       825  Águas de São Pedro      SP\n",
              "2        3        847         870  ...       800       Florianópolis      SC\n",
              "3        4        845         854  ...       789  Balneário Camboriú      SC\n",
              "4        4        845         876  ...       805             Vitória      ES\n",
              "\n",
              "[5 rows x 7 columns]"
            ]
          },
          "metadata": {},
          "execution_count": 279
        }
      ]
    },
    {
      "cell_type": "code",
      "metadata": {
        "id": "s74fYiq4NMM5"
      },
      "source": [
        "df = df[[\"Ranking\", \"municipio\", \"estado\", \"IDHM 2010\",\"IDHM Renda\", \"IDHM Longev\", \"IDHM Edu\"]] # Reordena as colunas"
      ],
      "execution_count": 280,
      "outputs": []
    },
    {
      "cell_type": "code",
      "metadata": {
        "id": "Wc_f1sXoC116"
      },
      "source": [
        "df = clean(df, method='standardize') # Padroniza o cabeçalho da base de dados (QuickDA)"
      ],
      "execution_count": 281,
      "outputs": []
    },
    {
      "cell_type": "code",
      "metadata": {
        "colab": {
          "base_uri": "https://localhost:8080/",
          "height": 204
        },
        "id": "ZElJ4iru0kei",
        "outputId": "17f26692-20f2-4ac6-b9f4-8b1625674f84"
      },
      "source": [
        "df.head()"
      ],
      "execution_count": 283,
      "outputs": [
        {
          "output_type": "execute_result",
          "data": {
            "text/html": [
              "<div>\n",
              "<style scoped>\n",
              "    .dataframe tbody tr th:only-of-type {\n",
              "        vertical-align: middle;\n",
              "    }\n",
              "\n",
              "    .dataframe tbody tr th {\n",
              "        vertical-align: top;\n",
              "    }\n",
              "\n",
              "    .dataframe thead th {\n",
              "        text-align: right;\n",
              "    }\n",
              "</style>\n",
              "<table border=\"1\" class=\"dataframe\">\n",
              "  <thead>\n",
              "    <tr style=\"text-align: right;\">\n",
              "      <th></th>\n",
              "      <th>ranking</th>\n",
              "      <th>municipio</th>\n",
              "      <th>estado</th>\n",
              "      <th>idhm_2010</th>\n",
              "      <th>idhm_renda</th>\n",
              "      <th>idhm_longev</th>\n",
              "      <th>idhm_edu</th>\n",
              "    </tr>\n",
              "  </thead>\n",
              "  <tbody>\n",
              "    <tr>\n",
              "      <th>0</th>\n",
              "      <td>1</td>\n",
              "      <td>São Caetano do Sul</td>\n",
              "      <td>SP</td>\n",
              "      <td>862</td>\n",
              "      <td>891</td>\n",
              "      <td>887</td>\n",
              "      <td>811</td>\n",
              "    </tr>\n",
              "    <tr>\n",
              "      <th>1</th>\n",
              "      <td>2</td>\n",
              "      <td>Águas de São Pedro</td>\n",
              "      <td>SP</td>\n",
              "      <td>854</td>\n",
              "      <td>849</td>\n",
              "      <td>890</td>\n",
              "      <td>825</td>\n",
              "    </tr>\n",
              "    <tr>\n",
              "      <th>2</th>\n",
              "      <td>3</td>\n",
              "      <td>Florianópolis</td>\n",
              "      <td>SC</td>\n",
              "      <td>847</td>\n",
              "      <td>870</td>\n",
              "      <td>873</td>\n",
              "      <td>800</td>\n",
              "    </tr>\n",
              "    <tr>\n",
              "      <th>3</th>\n",
              "      <td>4</td>\n",
              "      <td>Balneário Camboriú</td>\n",
              "      <td>SC</td>\n",
              "      <td>845</td>\n",
              "      <td>854</td>\n",
              "      <td>894</td>\n",
              "      <td>789</td>\n",
              "    </tr>\n",
              "    <tr>\n",
              "      <th>4</th>\n",
              "      <td>4</td>\n",
              "      <td>Vitória</td>\n",
              "      <td>ES</td>\n",
              "      <td>845</td>\n",
              "      <td>876</td>\n",
              "      <td>855</td>\n",
              "      <td>805</td>\n",
              "    </tr>\n",
              "  </tbody>\n",
              "</table>\n",
              "</div>"
            ],
            "text/plain": [
              "   ranking            municipio estado  ...  idhm_renda  idhm_longev  idhm_edu\n",
              "0        1  São Caetano do Sul      SP  ...         891          887       811\n",
              "1        2  Águas de São Pedro      SP  ...         849          890       825\n",
              "2        3       Florianópolis      SC  ...         870          873       800\n",
              "3        4  Balneário Camboriú      SC  ...         854          894       789\n",
              "4        4             Vitória      ES  ...         876          855       805\n",
              "\n",
              "[5 rows x 7 columns]"
            ]
          },
          "metadata": {},
          "execution_count": 283
        }
      ]
    },
    {
      "cell_type": "code",
      "metadata": {
        "id": "IoEz9EBiPPd7",
        "colab": {
          "base_uri": "https://localhost:8080/",
          "height": 266
        },
        "outputId": "58dc496f-734d-49d4-8045-f23a64f07864"
      },
      "source": [
        "explore(df, method='summarize')"
      ],
      "execution_count": 282,
      "outputs": [
        {
          "output_type": "execute_result",
          "data": {
            "text/html": [
              "<div>\n",
              "<style scoped>\n",
              "    .dataframe tbody tr th:only-of-type {\n",
              "        vertical-align: middle;\n",
              "    }\n",
              "\n",
              "    .dataframe tbody tr th {\n",
              "        vertical-align: top;\n",
              "    }\n",
              "\n",
              "    .dataframe thead th {\n",
              "        text-align: right;\n",
              "    }\n",
              "</style>\n",
              "<table border=\"1\" class=\"dataframe\">\n",
              "  <thead>\n",
              "    <tr style=\"text-align: right;\">\n",
              "      <th></th>\n",
              "      <th>dtypes</th>\n",
              "      <th>count</th>\n",
              "      <th>null_sum</th>\n",
              "      <th>null_pct</th>\n",
              "      <th>nunique</th>\n",
              "      <th>min</th>\n",
              "      <th>25%</th>\n",
              "      <th>50%</th>\n",
              "      <th>75%</th>\n",
              "      <th>max</th>\n",
              "      <th>mean</th>\n",
              "      <th>median</th>\n",
              "      <th>std</th>\n",
              "      <th>skew</th>\n",
              "    </tr>\n",
              "  </thead>\n",
              "  <tbody>\n",
              "    <tr>\n",
              "      <th>estado</th>\n",
              "      <td>string</td>\n",
              "      <td>5565</td>\n",
              "      <td>0</td>\n",
              "      <td>0.0</td>\n",
              "      <td>27</td>\n",
              "      <td>AC</td>\n",
              "      <td>-</td>\n",
              "      <td>-</td>\n",
              "      <td>-</td>\n",
              "      <td>TO</td>\n",
              "      <td>-</td>\n",
              "      <td>-</td>\n",
              "      <td>-</td>\n",
              "      <td>-</td>\n",
              "    </tr>\n",
              "    <tr>\n",
              "      <th>idhm_2010</th>\n",
              "      <td>Int64</td>\n",
              "      <td>5565</td>\n",
              "      <td>0</td>\n",
              "      <td>0.0</td>\n",
              "      <td>349</td>\n",
              "      <td>418</td>\n",
              "      <td>599</td>\n",
              "      <td>665</td>\n",
              "      <td>718</td>\n",
              "      <td>862</td>\n",
              "      <td>659.157</td>\n",
              "      <td>665</td>\n",
              "      <td>71.9973</td>\n",
              "      <td>-0.155605</td>\n",
              "    </tr>\n",
              "    <tr>\n",
              "      <th>idhm_edu</th>\n",
              "      <td>Int64</td>\n",
              "      <td>5565</td>\n",
              "      <td>0</td>\n",
              "      <td>0.0</td>\n",
              "      <td>466</td>\n",
              "      <td>207</td>\n",
              "      <td>490</td>\n",
              "      <td>560</td>\n",
              "      <td>631</td>\n",
              "      <td>825</td>\n",
              "      <td>559.094</td>\n",
              "      <td>560</td>\n",
              "      <td>93.3277</td>\n",
              "      <td>-0.0984634</td>\n",
              "    </tr>\n",
              "    <tr>\n",
              "      <th>idhm_longev</th>\n",
              "      <td>int64</td>\n",
              "      <td>5565</td>\n",
              "      <td>0</td>\n",
              "      <td>0.0</td>\n",
              "      <td>220</td>\n",
              "      <td>672</td>\n",
              "      <td>769</td>\n",
              "      <td>808</td>\n",
              "      <td>836</td>\n",
              "      <td>894</td>\n",
              "      <td>801.564</td>\n",
              "      <td>808</td>\n",
              "      <td>44.6809</td>\n",
              "      <td>-0.409358</td>\n",
              "    </tr>\n",
              "    <tr>\n",
              "      <th>idhm_renda</th>\n",
              "      <td>int64</td>\n",
              "      <td>5565</td>\n",
              "      <td>0</td>\n",
              "      <td>0.0</td>\n",
              "      <td>390</td>\n",
              "      <td>400</td>\n",
              "      <td>572</td>\n",
              "      <td>654</td>\n",
              "      <td>707</td>\n",
              "      <td>891</td>\n",
              "      <td>642.873</td>\n",
              "      <td>654</td>\n",
              "      <td>80.6617</td>\n",
              "      <td>-0.101024</td>\n",
              "    </tr>\n",
              "    <tr>\n",
              "      <th>municipio</th>\n",
              "      <td>string</td>\n",
              "      <td>5565</td>\n",
              "      <td>0</td>\n",
              "      <td>0.0</td>\n",
              "      <td>5291</td>\n",
              "      <td>Abadia de Goiás</td>\n",
              "      <td>-</td>\n",
              "      <td>-</td>\n",
              "      <td>-</td>\n",
              "      <td>Óleo</td>\n",
              "      <td>-</td>\n",
              "      <td>-</td>\n",
              "      <td>-</td>\n",
              "      <td>-</td>\n",
              "    </tr>\n",
              "    <tr>\n",
              "      <th>ranking</th>\n",
              "      <td>int64</td>\n",
              "      <td>5565</td>\n",
              "      <td>0</td>\n",
              "      <td>0.0</td>\n",
              "      <td>349</td>\n",
              "      <td>1</td>\n",
              "      <td>1362</td>\n",
              "      <td>2776</td>\n",
              "      <td>4167</td>\n",
              "      <td>5565</td>\n",
              "      <td>2772.27</td>\n",
              "      <td>2776</td>\n",
              "      <td>1607.38</td>\n",
              "      <td>0.00369577</td>\n",
              "    </tr>\n",
              "  </tbody>\n",
              "</table>\n",
              "</div>"
            ],
            "text/plain": [
              "             dtypes  count  null_sum  ...  median      std        skew\n",
              "estado       string   5565         0  ...       -        -           -\n",
              "idhm_2010     Int64   5565         0  ...     665  71.9973   -0.155605\n",
              "idhm_edu      Int64   5565         0  ...     560  93.3277  -0.0984634\n",
              "idhm_longev   int64   5565         0  ...     808  44.6809   -0.409358\n",
              "idhm_renda    int64   5565         0  ...     654  80.6617   -0.101024\n",
              "municipio    string   5565         0  ...       -        -           -\n",
              "ranking       int64   5565         0  ...    2776  1607.38  0.00369577\n",
              "\n",
              "[7 rows x 14 columns]"
            ]
          },
          "metadata": {},
          "execution_count": 282
        }
      ]
    },
    {
      "cell_type": "code",
      "metadata": {
        "id": "c6KbinRfSrGY"
      },
      "source": [
        "df.to_csv(\"IDHM_2010_BR.csv\")"
      ],
      "execution_count": 35,
      "outputs": []
    }
  ]
}