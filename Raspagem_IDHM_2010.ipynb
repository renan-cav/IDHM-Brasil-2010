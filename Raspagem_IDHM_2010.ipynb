{
  "nbformat": 4,
  "nbformat_minor": 0,
  "metadata": {
    "colab": {
      "name": "Raspagem IDHM 2010.ipynb",
      "provenance": [],
      "authorship_tag": "ABX9TyNClBklKavjNwUhbl9OmCU2",
      "include_colab_link": true
    },
    "kernelspec": {
      "name": "python3",
      "display_name": "Python 3"
    },
    "language_info": {
      "name": "python"
    }
  },
  "cells": [
    {
      "cell_type": "markdown",
      "metadata": {
        "id": "view-in-github",
        "colab_type": "text"
      },
      "source": [
        "<a href=\"https://colab.research.google.com/github/renan-cav/IDHM-Brasil-2010/blob/main/Raspagem_IDHM_2010.ipynb\" target=\"_parent\"><img src=\"https://colab.research.google.com/assets/colab-badge.svg\" alt=\"Open In Colab\"/></a>"
      ]
    },
    {
      "cell_type": "markdown",
      "metadata": {
        "id": "e9n1Mm1pltEX"
      },
      "source": [
        "#Raspagem de tabela do site do Programa das Nações Unidas para o Desenvolvimento\n",
        "\n",
        "Site: https://www.br.undp.org/content/brazil/pt/home/idh0/rankings/idhm-municipios-2010.html\n",
        "\n",
        "Código Fonte: https://www.br.undp.org/content/brazil/pt/home/idh0/rankings/idhm-municipios-2010.html"
      ]
    },
    {
      "cell_type": "code",
      "metadata": {
        "id": "fDhCkisQroYp"
      },
      "source": [
        "!pip install quickda # Instala a biblioteca quickda que serve para análise de dados"
      ],
      "execution_count": null,
      "outputs": []
    },
    {
      "cell_type": "code",
      "metadata": {
        "id": "1-qQW5_Rigkg"
      },
      "source": [
        "import csv # Importa as bibliotecas necessárias\n",
        "import pandas as pd\n",
        "import quickda\n",
        "\n",
        "from quickda.clean_data import * # Limpa o dataframe\n",
        "from quickda.explore_data import *"
      ],
      "execution_count": 285,
      "outputs": []
    },
    {
      "cell_type": "code",
      "metadata": {
        "id": "3inTTWioiwpH"
      },
      "source": [
        "url = \"https://www.br.undp.org/content/brazil/pt/home/idh0/rankings/idhm-municipios-2010.html\"\n",
        "html = pd.read_html(url) # Puxa a tabela direto da URL Definida"
      ],
      "execution_count": 286,
      "outputs": []
    },
    {
      "cell_type": "code",
      "metadata": {
        "id": "6FTDHCy0aKSk"
      },
      "source": [
        "df = html[0] # Extrai a tabela do HTML"
      ],
      "execution_count": 287,
      "outputs": []
    },
    {
      "cell_type": "code",
      "metadata": {
        "id": "GIR2snVs16GV"
      },
      "source": [
        "df[[\"municipio\",\"estado\"]] = df[\"Município\"].str.split(\"(\", expand=True) # Divide a coluna munícipio e criar a coluna estado\n",
        "df[\"estado\"] = df[\"estado\"].str.replace(\")\",\"\") # Tira o parêntese que estava sobrando\n",
        "df = df.rename(columns={\"Ranking IDHM 2010\": \"Ranking\", \"IDHM Renda 2010\": \"IDHM Renda\", \"IDHM Longevidade 2010\": \"IDHM Longev\", \"IDHM Educação 2010\" : \"IDHM Edu\"}) # Renomeia as colunas\n",
        "df = df.drop(\"Município\", 1) # Retira a coluna \"Município\". O 1 no fim do código significa que uma coluna deve ser retirada."
      ],
      "execution_count": 289,
      "outputs": []
    },
    {
      "cell_type": "code",
      "metadata": {
        "id": "CpI_XpsAifIE"
      },
      "source": [
        "df[\"Ranking\"] = df[\"Ranking\"].str.replace(\"º\", \"\").str.replace(\"td>\", \"\") # Faz mudanças nas células. Retira o \"º\" do ranking e \"td>\" que era um erro na criação do HTML.\n",
        "df[\"IDHM Renda\"] = df[\"IDHM Renda\"].str.replace(\"td>\", \"\").str.replac,\"\"e(\",\")\n",
        "df[\"IDHM Longev\"] = df[\"IDHM Longev\"].str.replace(\"td>\", \"\").str.replace(\",\",\"\")"
      ],
      "execution_count": 291,
      "outputs": []
    },
    {
      "cell_type": "code",
      "metadata": {
        "id": "q_Hn7jsXx0BT"
      },
      "source": [
        "df = df.convert_dtypes(infer_objects=True) # A tabela veio como \"object\", o comando diz \"infer_objects\""
      ],
      "execution_count": 293,
      "outputs": []
    },
    {
      "cell_type": "code",
      "metadata": {
        "id": "UuUiFt_LKAVP"
      },
      "source": [
        "df[[\"Ranking\", \"IDHM Renda\", \"IDHM Longev\"]] = df[[\"Ranking\", \"IDHM Renda\", \"IDHM Longev\"]].astype(int) # A tabela veio como "
      ],
      "execution_count": 294,
      "outputs": []
    },
    {
      "cell_type": "code",
      "metadata": {
        "id": "s74fYiq4NMM5"
      },
      "source": [
        "df = df[[\"Ranking\", \"municipio\", \"estado\", \"IDHM 2010\",\"IDHM Renda\", \"IDHM Longev\", \"IDHM Edu\"]] # Reordena as colunas"
      ],
      "execution_count": 296,
      "outputs": []
    },
    {
      "cell_type": "code",
      "metadata": {
        "id": "Wc_f1sXoC116"
      },
      "source": [
        "df = clean(df, method='standardize') # Padroniza o cabeçalho da base de dados (QuickDA)"
      ],
      "execution_count": 297,
      "outputs": []
    },
    {
      "cell_type": "code",
      "metadata": {
        "id": "IoEz9EBiPPd7"
      },
      "source": [
        "explore(df, method='summarize')"
      ],
      "execution_count": null,
      "outputs": []
    },
    {
      "cell_type": "code",
      "metadata": {
        "id": "SxfJtDfh0fib"
      },
      "source": [
        "df[[\"idhm_2010\", \"idhm_renda\", \"idhm_longev\", \"idhm_edu\"]] = df[[\"idhm_2010\", \"idhm_renda\", \"idhm_longev\", \"idhm_edu\"]] / 1000"
      ],
      "execution_count": 308,
      "outputs": []
    },
    {
      "cell_type": "code",
      "metadata": {
        "id": "c6KbinRfSrGY"
      },
      "source": [
        "df.to_csv(\"IDHM_2010_BR.csv\")"
      ],
      "execution_count": 310,
      "outputs": []
    }
  ]
}