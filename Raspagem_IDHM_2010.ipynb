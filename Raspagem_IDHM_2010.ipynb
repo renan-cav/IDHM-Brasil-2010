{
  "nbformat": 4,
  "nbformat_minor": 0,
  "metadata": {
    "colab": {
      "name": "Raspagem IDHM 2010.ipynb",
      "provenance": [],
      "authorship_tag": "ABX9TyNhLNXPycpRAtSgYSpSuwOQ",
      "include_colab_link": true
    },
    "kernelspec": {
      "name": "python3",
      "display_name": "Python 3"
    },
    "language_info": {
      "name": "python"
    }
  },
  "cells": [
    {
      "cell_type": "markdown",
      "metadata": {
        "id": "view-in-github",
        "colab_type": "text"
      },
      "source": [
        "<a href=\"https://colab.research.google.com/github/renan-cav/IDHM-Sao-Paulo/blob/main/Raspagem_IDHM_2010.ipynb\" target=\"_parent\"><img src=\"https://colab.research.google.com/assets/colab-badge.svg\" alt=\"Open In Colab\"/></a>"
      ]
    },
    {
      "cell_type": "markdown",
      "metadata": {
        "id": "e9n1Mm1pltEX"
      },
      "source": [
        "#Raspagem de tabela do site do Programa das Nações Unidas para o Desenvolvimento\n",
        "\n",
        "Site: https://www.br.undp.org/content/brazil/pt/home/idh0/rankings/idhm-municipios-2010.html\n",
        "\n",
        "Código Fonte: https://www.br.undp.org/content/brazil/pt/home/idh0/rankings/idhm-municipios-2010.html"
      ]
    },
    {
      "cell_type": "code",
      "metadata": {
        "id": "fDhCkisQroYp"
      },
      "source": [
        "!pip install quickda # Instala a biblioteca quickda que serve para análise de dados"
      ],
      "execution_count": null,
      "outputs": []
    },
    {
      "cell_type": "code",
      "metadata": {
        "id": "1-qQW5_Rigkg"
      },
      "source": [
        "import csv # Importar as bibliotecas necessárias\n",
        "import pandas as pd\n",
        "import quickda\n",
        "\n",
        "from quickda.clean_data import * # Limpar o dataframe\n",
        "from quickda.explore_data import *"
      ],
      "execution_count": 6,
      "outputs": []
    },
    {
      "cell_type": "code",
      "metadata": {
        "id": "3inTTWioiwpH"
      },
      "source": [
        "url = \"https://www.br.undp.org/content/brazil/pt/home/idh0/rankings/idhm-municipios-2010.html\"\n",
        "html = pd.read_html(url) # Puxa a tabela direto da URL Definida\n",
        "df = html[0] # Extrai a tabela do HTML"
      ],
      "execution_count": 7,
      "outputs": []
    },
    {
      "cell_type": "code",
      "metadata": {
        "colab": {
          "base_uri": "https://localhost:8080/",
          "height": 204
        },
        "id": "xGzoJkyAyl4a",
        "outputId": "3a8dcefe-4ee4-486c-a489-9b8c15ebdf13"
      },
      "source": [
        "df.head()"
      ],
      "execution_count": 8,
      "outputs": [
        {
          "output_type": "execute_result",
          "data": {
            "text/html": [
              "<div>\n",
              "<style scoped>\n",
              "    .dataframe tbody tr th:only-of-type {\n",
              "        vertical-align: middle;\n",
              "    }\n",
              "\n",
              "    .dataframe tbody tr th {\n",
              "        vertical-align: top;\n",
              "    }\n",
              "\n",
              "    .dataframe thead th {\n",
              "        text-align: right;\n",
              "    }\n",
              "</style>\n",
              "<table border=\"1\" class=\"dataframe\">\n",
              "  <thead>\n",
              "    <tr style=\"text-align: right;\">\n",
              "      <th></th>\n",
              "      <th>Ranking IDHM 2010</th>\n",
              "      <th>Município</th>\n",
              "      <th>IDHM 2010</th>\n",
              "      <th>IDHM Renda 2010</th>\n",
              "      <th>IDHM Longevidade 2010</th>\n",
              "      <th>IDHM Educação 2010</th>\n",
              "    </tr>\n",
              "  </thead>\n",
              "  <tbody>\n",
              "    <tr>\n",
              "      <th>0</th>\n",
              "      <td>1 º</td>\n",
              "      <td>São Caetano do Sul (SP)</td>\n",
              "      <td>862</td>\n",
              "      <td>0891</td>\n",
              "      <td>0887</td>\n",
              "      <td>811</td>\n",
              "    </tr>\n",
              "    <tr>\n",
              "      <th>1</th>\n",
              "      <td>2 º</td>\n",
              "      <td>Águas de São Pedro (SP)</td>\n",
              "      <td>854</td>\n",
              "      <td>0849</td>\n",
              "      <td>0890</td>\n",
              "      <td>825</td>\n",
              "    </tr>\n",
              "    <tr>\n",
              "      <th>2</th>\n",
              "      <td>3 º</td>\n",
              "      <td>Florianópolis (SC)</td>\n",
              "      <td>847</td>\n",
              "      <td>0870</td>\n",
              "      <td>0873</td>\n",
              "      <td>800</td>\n",
              "    </tr>\n",
              "    <tr>\n",
              "      <th>3</th>\n",
              "      <td>4 º</td>\n",
              "      <td>Balneário Camboriú (SC)</td>\n",
              "      <td>845</td>\n",
              "      <td>0854</td>\n",
              "      <td>0894</td>\n",
              "      <td>789</td>\n",
              "    </tr>\n",
              "    <tr>\n",
              "      <th>4</th>\n",
              "      <td>4 º</td>\n",
              "      <td>Vitória (ES)</td>\n",
              "      <td>845</td>\n",
              "      <td>0876</td>\n",
              "      <td>0855</td>\n",
              "      <td>805</td>\n",
              "    </tr>\n",
              "  </tbody>\n",
              "</table>\n",
              "</div>"
            ],
            "text/plain": [
              "  Ranking IDHM 2010  ... IDHM Educação 2010\n",
              "0               1 º  ...                811\n",
              "1               2 º  ...                825\n",
              "2               3 º  ...                800\n",
              "3               4 º  ...                789\n",
              "4               4 º  ...                805\n",
              "\n",
              "[5 rows x 6 columns]"
            ]
          },
          "metadata": {},
          "execution_count": 8
        }
      ]
    },
    {
      "cell_type": "code",
      "metadata": {
        "id": "GIR2snVs16GV"
      },
      "source": [
        "df[\"Ranking IDHM 2010\"] = df[\"Ranking IDHM 2010\"].str.replace(\"º\", \"\").str.replace(\"td>\", \"\") # Retirar \"º\" do Ranking e corrigir erro em uma das linhas\n",
        "df[[\"municipio\",\"estado\"]] = df[\"Município\"].str.split(\"(\", expand=True) # Dividir a coluna munícipio e criar a coluna estado\n",
        "df[\"estado\"] = df[\"estado\"].str.replace(\")\",\"\") # Tirar o parêntese que estava sobrando\n",
        "df = df.rename(columns={\"Ranking IDHM 2010\": \"Ranking\", \"IDHM Renda 2010\": \"IDHM Renda\", \"IDHM Longevidade 2010\": \"IDHM Longev\", \"IDHM Educação 2010\" : \"IDHM Edu\"}) # Renomear as colunas\n",
        "df = df.drop(\"Município\", 1) # Retirar a coluna \"Município\". O 1 no fim do código significa que uma coluna deve ser retirada."
      ],
      "execution_count": 9,
      "outputs": []
    },
    {
      "cell_type": "code",
      "metadata": {
        "id": "RrPEEQfvGtsR"
      },
      "source": [
        "df.head()"
      ],
      "execution_count": null,
      "outputs": []
    },
    {
      "cell_type": "code",
      "metadata": {
        "id": "s74fYiq4NMM5"
      },
      "source": [
        "df = df[[\"Ranking\", \"municipio\", \"estado\", \"IDHM 2010\",\"IDHM Renda\", \"IDHM Longev\", \"IDHM Edu\"]] # Reordenar as colunas"
      ],
      "execution_count": 10,
      "outputs": []
    },
    {
      "cell_type": "code",
      "metadata": {
        "id": "0fDRP1hfNbXh",
        "colab": {
          "base_uri": "https://localhost:8080/",
          "height": 204
        },
        "outputId": "19d4c17a-d3e5-4d9b-8ec5-ee08aaa6df11"
      },
      "source": [
        "df.head()"
      ],
      "execution_count": 264,
      "outputs": [
        {
          "output_type": "execute_result",
          "data": {
            "text/html": [
              "<div>\n",
              "<style scoped>\n",
              "    .dataframe tbody tr th:only-of-type {\n",
              "        vertical-align: middle;\n",
              "    }\n",
              "\n",
              "    .dataframe tbody tr th {\n",
              "        vertical-align: top;\n",
              "    }\n",
              "\n",
              "    .dataframe thead th {\n",
              "        text-align: right;\n",
              "    }\n",
              "</style>\n",
              "<table border=\"1\" class=\"dataframe\">\n",
              "  <thead>\n",
              "    <tr style=\"text-align: right;\">\n",
              "      <th></th>\n",
              "      <th>Ranking</th>\n",
              "      <th>municipio</th>\n",
              "      <th>estado</th>\n",
              "      <th>IDHM 2010</th>\n",
              "      <th>IDHM Renda</th>\n",
              "      <th>IDHM Longev</th>\n",
              "      <th>IDHM Edu</th>\n",
              "    </tr>\n",
              "  </thead>\n",
              "  <tbody>\n",
              "    <tr>\n",
              "      <th>0</th>\n",
              "      <td>1</td>\n",
              "      <td>São Caetano do Sul</td>\n",
              "      <td>SP</td>\n",
              "      <td>862</td>\n",
              "      <td>0891</td>\n",
              "      <td>0887</td>\n",
              "      <td>811</td>\n",
              "    </tr>\n",
              "    <tr>\n",
              "      <th>1</th>\n",
              "      <td>2</td>\n",
              "      <td>Águas de São Pedro</td>\n",
              "      <td>SP</td>\n",
              "      <td>854</td>\n",
              "      <td>0849</td>\n",
              "      <td>0890</td>\n",
              "      <td>825</td>\n",
              "    </tr>\n",
              "    <tr>\n",
              "      <th>2</th>\n",
              "      <td>3</td>\n",
              "      <td>Florianópolis</td>\n",
              "      <td>SC</td>\n",
              "      <td>847</td>\n",
              "      <td>0870</td>\n",
              "      <td>0873</td>\n",
              "      <td>800</td>\n",
              "    </tr>\n",
              "    <tr>\n",
              "      <th>3</th>\n",
              "      <td>4</td>\n",
              "      <td>Balneário Camboriú</td>\n",
              "      <td>SC</td>\n",
              "      <td>845</td>\n",
              "      <td>0854</td>\n",
              "      <td>0894</td>\n",
              "      <td>789</td>\n",
              "    </tr>\n",
              "    <tr>\n",
              "      <th>4</th>\n",
              "      <td>4</td>\n",
              "      <td>Vitória</td>\n",
              "      <td>ES</td>\n",
              "      <td>845</td>\n",
              "      <td>0876</td>\n",
              "      <td>0855</td>\n",
              "      <td>805</td>\n",
              "    </tr>\n",
              "  </tbody>\n",
              "</table>\n",
              "</div>"
            ],
            "text/plain": [
              "  Ranking            municipio estado  ...  IDHM Renda IDHM Longev IDHM Edu\n",
              "0      1   São Caetano do Sul      SP  ...        0891        0887      811\n",
              "1      2   Águas de São Pedro      SP  ...        0849        0890      825\n",
              "2      3        Florianópolis      SC  ...        0870        0873      800\n",
              "3      4   Balneário Camboriú      SC  ...        0854        0894      789\n",
              "4      4              Vitória      ES  ...        0876        0855      805\n",
              "\n",
              "[5 rows x 7 columns]"
            ]
          },
          "metadata": {},
          "execution_count": 264
        }
      ]
    },
    {
      "cell_type": "code",
      "metadata": {
        "id": "Wc_f1sXoC116"
      },
      "source": [
        "df = clean(df, method='standardize') # Padroniza o cabeçalho da base de dados"
      ],
      "execution_count": 11,
      "outputs": []
    },
    {
      "cell_type": "code",
      "metadata": {
        "id": "IoEz9EBiPPd7",
        "colab": {
          "base_uri": "https://localhost:8080/",
          "height": 204
        },
        "outputId": "b0ed145c-5be4-42e5-b57e-77c9bcf50d19"
      },
      "source": [
        "df.head()"
      ],
      "execution_count": 266,
      "outputs": [
        {
          "output_type": "execute_result",
          "data": {
            "text/html": [
              "<div>\n",
              "<style scoped>\n",
              "    .dataframe tbody tr th:only-of-type {\n",
              "        vertical-align: middle;\n",
              "    }\n",
              "\n",
              "    .dataframe tbody tr th {\n",
              "        vertical-align: top;\n",
              "    }\n",
              "\n",
              "    .dataframe thead th {\n",
              "        text-align: right;\n",
              "    }\n",
              "</style>\n",
              "<table border=\"1\" class=\"dataframe\">\n",
              "  <thead>\n",
              "    <tr style=\"text-align: right;\">\n",
              "      <th></th>\n",
              "      <th>ranking</th>\n",
              "      <th>municipio</th>\n",
              "      <th>estado</th>\n",
              "      <th>idhm_2010</th>\n",
              "      <th>idhm_renda</th>\n",
              "      <th>idhm_longev</th>\n",
              "      <th>idhm_edu</th>\n",
              "    </tr>\n",
              "  </thead>\n",
              "  <tbody>\n",
              "    <tr>\n",
              "      <th>0</th>\n",
              "      <td>1</td>\n",
              "      <td>São Caetano do Sul</td>\n",
              "      <td>SP</td>\n",
              "      <td>862</td>\n",
              "      <td>0891</td>\n",
              "      <td>0887</td>\n",
              "      <td>811</td>\n",
              "    </tr>\n",
              "    <tr>\n",
              "      <th>1</th>\n",
              "      <td>2</td>\n",
              "      <td>Águas de São Pedro</td>\n",
              "      <td>SP</td>\n",
              "      <td>854</td>\n",
              "      <td>0849</td>\n",
              "      <td>0890</td>\n",
              "      <td>825</td>\n",
              "    </tr>\n",
              "    <tr>\n",
              "      <th>2</th>\n",
              "      <td>3</td>\n",
              "      <td>Florianópolis</td>\n",
              "      <td>SC</td>\n",
              "      <td>847</td>\n",
              "      <td>0870</td>\n",
              "      <td>0873</td>\n",
              "      <td>800</td>\n",
              "    </tr>\n",
              "    <tr>\n",
              "      <th>3</th>\n",
              "      <td>4</td>\n",
              "      <td>Balneário Camboriú</td>\n",
              "      <td>SC</td>\n",
              "      <td>845</td>\n",
              "      <td>0854</td>\n",
              "      <td>0894</td>\n",
              "      <td>789</td>\n",
              "    </tr>\n",
              "    <tr>\n",
              "      <th>4</th>\n",
              "      <td>4</td>\n",
              "      <td>Vitória</td>\n",
              "      <td>ES</td>\n",
              "      <td>845</td>\n",
              "      <td>0876</td>\n",
              "      <td>0855</td>\n",
              "      <td>805</td>\n",
              "    </tr>\n",
              "  </tbody>\n",
              "</table>\n",
              "</div>"
            ],
            "text/plain": [
              "  ranking            municipio estado  ...  idhm_renda idhm_longev idhm_edu\n",
              "0      1   São Caetano do Sul      SP  ...        0891        0887      811\n",
              "1      2   Águas de São Pedro      SP  ...        0849        0890      825\n",
              "2      3        Florianópolis      SC  ...        0870        0873      800\n",
              "3      4   Balneário Camboriú      SC  ...        0854        0894      789\n",
              "4      4              Vitória      ES  ...        0876        0855      805\n",
              "\n",
              "[5 rows x 7 columns]"
            ]
          },
          "metadata": {},
          "execution_count": 266
        }
      ]
    },
    {
      "cell_type": "code",
      "metadata": {
        "colab": {
          "base_uri": "https://localhost:8080/"
        },
        "id": "HQnx4JoZMcLa",
        "outputId": "c4ede72a-dce7-473d-9a03-d3bb9d9c8dbf"
      },
      "source": [
        "df.info()"
      ],
      "execution_count": 244,
      "outputs": [
        {
          "output_type": "stream",
          "name": "stdout",
          "text": [
            "<class 'pandas.core.frame.DataFrame'>\n",
            "RangeIndex: 5565 entries, 0 to 5564\n",
            "Data columns (total 7 columns):\n",
            " #   Column            Non-Null Count  Dtype \n",
            "---  ------            --------------  ----- \n",
            " 0   ranking           5565 non-null   object\n",
            " 1   municipio         5565 non-null   object\n",
            " 2   estado            5565 non-null   object\n",
            " 3   idhm_2010         5565 non-null   int64 \n",
            " 4   idhm_renda        5565 non-null   object\n",
            " 5   idhm_longevidade  5565 non-null   object\n",
            " 6   idhm_educação     5565 non-null   int64 \n",
            "dtypes: int64(2), object(5)\n",
            "memory usage: 304.5+ KB\n"
          ]
        }
      ]
    },
    {
      "cell_type": "code",
      "metadata": {
        "id": "XiwW97sKzC4X"
      },
      "source": [
        "df = df.convert_dtypes(infer_objects=True)"
      ],
      "execution_count": 245,
      "outputs": []
    },
    {
      "cell_type": "code",
      "metadata": {
        "colab": {
          "base_uri": "https://localhost:8080/"
        },
        "id": "Jd3ZbGttMYvF",
        "outputId": "8d4e2e97-3e85-487a-d3a2-6e42ab808953"
      },
      "source": [
        "df.info()"
      ],
      "execution_count": 246,
      "outputs": [
        {
          "output_type": "stream",
          "name": "stdout",
          "text": [
            "<class 'pandas.core.frame.DataFrame'>\n",
            "RangeIndex: 5565 entries, 0 to 5564\n",
            "Data columns (total 7 columns):\n",
            " #   Column            Non-Null Count  Dtype \n",
            "---  ------            --------------  ----- \n",
            " 0   ranking           5565 non-null   string\n",
            " 1   municipio         5565 non-null   string\n",
            " 2   estado            5565 non-null   string\n",
            " 3   idhm_2010         5565 non-null   Int64 \n",
            " 4   idhm_renda        5565 non-null   string\n",
            " 5   idhm_longevidade  5565 non-null   string\n",
            " 6   idhm_educação     5565 non-null   Int64 \n",
            "dtypes: Int64(2), string(5)\n",
            "memory usage: 315.3 KB\n"
          ]
        }
      ]
    },
    {
      "cell_type": "code",
      "metadata": {
        "id": "UuUiFt_LKAVP"
      },
      "source": [
        "df[\"ranking\"] = df[\"ranking\"].astype(int)"
      ],
      "execution_count": 255,
      "outputs": []
    },
    {
      "cell_type": "code",
      "metadata": {
        "colab": {
          "base_uri": "https://localhost:8080/"
        },
        "id": "vjedYQZMK3Qg",
        "outputId": "86818862-fda2-4e25-b223-977bfb5374ff"
      },
      "source": [
        "df.info()"
      ],
      "execution_count": 248,
      "outputs": [
        {
          "output_type": "stream",
          "name": "stdout",
          "text": [
            "<class 'pandas.core.frame.DataFrame'>\n",
            "RangeIndex: 5565 entries, 0 to 5564\n",
            "Data columns (total 7 columns):\n",
            " #   Column            Non-Null Count  Dtype \n",
            "---  ------            --------------  ----- \n",
            " 0   ranking           5565 non-null   int64 \n",
            " 1   municipio         5565 non-null   string\n",
            " 2   estado            5565 non-null   string\n",
            " 3   idhm_2010         5565 non-null   Int64 \n",
            " 4   idhm_renda        5565 non-null   string\n",
            " 5   idhm_longevidade  5565 non-null   string\n",
            " 6   idhm_educação     5565 non-null   Int64 \n",
            "dtypes: Int64(2), int64(1), string(4)\n",
            "memory usage: 315.3 KB\n"
          ]
        }
      ]
    },
    {
      "cell_type": "code",
      "metadata": {
        "colab": {
          "base_uri": "https://localhost:8080/",
          "height": 419
        },
        "id": "Q_uT8elIkle1",
        "outputId": "35ee03d4-039d-44c2-e7c4-ecf550f25ad1"
      },
      "source": [
        "df.query(\"estado == 'SP'\")"
      ],
      "execution_count": 186,
      "outputs": [
        {
          "output_type": "execute_result",
          "data": {
            "text/html": [
              "<div>\n",
              "<style scoped>\n",
              "    .dataframe tbody tr th:only-of-type {\n",
              "        vertical-align: middle;\n",
              "    }\n",
              "\n",
              "    .dataframe tbody tr th {\n",
              "        vertical-align: top;\n",
              "    }\n",
              "\n",
              "    .dataframe thead th {\n",
              "        text-align: right;\n",
              "    }\n",
              "</style>\n",
              "<table border=\"1\" class=\"dataframe\">\n",
              "  <thead>\n",
              "    <tr style=\"text-align: right;\">\n",
              "      <th></th>\n",
              "      <th>ranking</th>\n",
              "      <th>municipio</th>\n",
              "      <th>estado</th>\n",
              "      <th>idhm_2010</th>\n",
              "      <th>idhm_renda</th>\n",
              "      <th>idhm_longevidade</th>\n",
              "      <th>idhm_educação</th>\n",
              "    </tr>\n",
              "  </thead>\n",
              "  <tbody>\n",
              "    <tr>\n",
              "      <th>0</th>\n",
              "      <td>1</td>\n",
              "      <td>São Caetano do Sul</td>\n",
              "      <td>SP</td>\n",
              "      <td>862</td>\n",
              "      <td>0891</td>\n",
              "      <td>0887</td>\n",
              "      <td>811</td>\n",
              "    </tr>\n",
              "    <tr>\n",
              "      <th>1</th>\n",
              "      <td>2</td>\n",
              "      <td>Águas de São Pedro</td>\n",
              "      <td>SP</td>\n",
              "      <td>854</td>\n",
              "      <td>0849</td>\n",
              "      <td>0890</td>\n",
              "      <td>825</td>\n",
              "    </tr>\n",
              "    <tr>\n",
              "      <th>5</th>\n",
              "      <td>6</td>\n",
              "      <td>Santos</td>\n",
              "      <td>SP</td>\n",
              "      <td>840</td>\n",
              "      <td>0861</td>\n",
              "      <td>0852</td>\n",
              "      <td>807</td>\n",
              "    </tr>\n",
              "    <tr>\n",
              "      <th>10</th>\n",
              "      <td>11</td>\n",
              "      <td>Jundiaí</td>\n",
              "      <td>SP</td>\n",
              "      <td>822</td>\n",
              "      <td>0834</td>\n",
              "      <td>0866</td>\n",
              "      <td>768</td>\n",
              "    </tr>\n",
              "    <tr>\n",
              "      <th>11</th>\n",
              "      <td>12</td>\n",
              "      <td>Valinhos</td>\n",
              "      <td>SP</td>\n",
              "      <td>819</td>\n",
              "      <td>0848</td>\n",
              "      <td>0850</td>\n",
              "      <td>763</td>\n",
              "    </tr>\n",
              "    <tr>\n",
              "      <th>...</th>\n",
              "      <td>...</td>\n",
              "      <td>...</td>\n",
              "      <td>...</td>\n",
              "      <td>...</td>\n",
              "      <td>...</td>\n",
              "      <td>...</td>\n",
              "      <td>...</td>\n",
              "    </tr>\n",
              "    <tr>\n",
              "      <th>2967</th>\n",
              "      <td>2964</td>\n",
              "      <td>Redenção da Serra</td>\n",
              "      <td>SP</td>\n",
              "      <td>657</td>\n",
              "      <td>0633</td>\n",
              "      <td>0799</td>\n",
              "      <td>560</td>\n",
              "    </tr>\n",
              "    <tr>\n",
              "      <th>3013</th>\n",
              "      <td>3008</td>\n",
              "      <td>Natividade da Serra</td>\n",
              "      <td>SP</td>\n",
              "      <td>655</td>\n",
              "      <td>0664</td>\n",
              "      <td>0814</td>\n",
              "      <td>520</td>\n",
              "    </tr>\n",
              "    <tr>\n",
              "      <th>3098</th>\n",
              "      <td>3090</td>\n",
              "      <td>Nova Campina</td>\n",
              "      <td>SP</td>\n",
              "      <td>651</td>\n",
              "      <td>0598</td>\n",
              "      <td>0799</td>\n",
              "      <td>577</td>\n",
              "    </tr>\n",
              "    <tr>\n",
              "      <th>3275</th>\n",
              "      <td>3275</td>\n",
              "      <td>Barra do Turvo</td>\n",
              "      <td>SP</td>\n",
              "      <td>641</td>\n",
              "      <td>0625</td>\n",
              "      <td>0792</td>\n",
              "      <td>532</td>\n",
              "    </tr>\n",
              "    <tr>\n",
              "      <th>3311</th>\n",
              "      <td>3312</td>\n",
              "      <td>Ribeirão Branco</td>\n",
              "      <td>SP</td>\n",
              "      <td>639</td>\n",
              "      <td>0592</td>\n",
              "      <td>0797</td>\n",
              "      <td>553</td>\n",
              "    </tr>\n",
              "  </tbody>\n",
              "</table>\n",
              "<p>645 rows × 7 columns</p>\n",
              "</div>"
            ],
            "text/plain": [
              "     ranking             municipio  ... idhm_longevidade  idhm_educação\n",
              "0         1    São Caetano do Sul   ...             0887            811\n",
              "1         2    Águas de São Pedro   ...             0890            825\n",
              "5         6                Santos   ...             0852            807\n",
              "10       11               Jundiaí   ...             0866            768\n",
              "11       12              Valinhos   ...             0850            763\n",
              "...      ...                   ...  ...              ...            ...\n",
              "2967   2964     Redenção da Serra   ...             0799            560\n",
              "3013   3008   Natividade da Serra   ...             0814            520\n",
              "3098   3090          Nova Campina   ...             0799            577\n",
              "3275   3275        Barra do Turvo   ...             0792            532\n",
              "3311   3312       Ribeirão Branco   ...             0797            553\n",
              "\n",
              "[645 rows x 7 columns]"
            ]
          },
          "metadata": {},
          "execution_count": 186
        }
      ]
    },
    {
      "cell_type": "code",
      "metadata": {
        "id": "c6KbinRfSrGY"
      },
      "source": [
        "df.to_csv(\"IDH_2010_RMSP.csv\")"
      ],
      "execution_count": null,
      "outputs": []
    }
  ]
}